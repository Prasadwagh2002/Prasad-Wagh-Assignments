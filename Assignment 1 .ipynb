{
 "cells": [
  {
   "cell_type": "code",
   "execution_count": 1,
   "id": "c981b705-8fc3-46c9-abe9-380471130c37",
   "metadata": {},
   "outputs": [],
   "source": [
    "# Assignment 1 \n",
    "# String"
   ]
  },
  {
   "cell_type": "code",
   "execution_count": 1,
   "id": "9cf89530-60cb-480f-a355-3cffd0b272e6",
   "metadata": {},
   "outputs": [
    {
     "name": "stdin",
     "output_type": "stream",
     "text": [
      "Enter the value: 121\n"
     ]
    },
    {
     "name": "stdout",
     "output_type": "stream",
     "text": [
      "It is not  palindrome\n"
     ]
    }
   ],
   "source": [
    "#Q.1 Write a python program to check whether the string is Symmetrical or Palindrome\n",
    "P=input(\"Enter the value:\")\n",
    "reverse= P[:-1]\n",
    "if(P==reverse):\n",
    "    print(\"It is palindrome\")\n",
    "else:\n",
    "    print(\"It is not  palindrome\")\n",
    "    "
   ]
  },
  {
   "cell_type": "code",
   "execution_count": 2,
   "id": "e69ed299-9e46-4a75-91f7-e30dc533f061",
   "metadata": {},
   "outputs": [
    {
     "name": "stdin",
     "output_type": "stream",
     "text": [
      "Enter the value: kliu\n"
     ]
    },
    {
     "name": "stdout",
     "output_type": "stream",
     "text": [
      "uilk\n"
     ]
    }
   ],
   "source": [
    "# Q2) Write a Python program to reverse the words in a given string\n",
    "A=input(\"Enter the value:\")\n",
    "print (A[::-1])\n",
    "\n",
    "\n",
    "\n"
   ]
  },
  {
   "cell_type": "code",
   "execution_count": 51,
   "id": "34b2aa7d-01ee-4297-911e-29b8e5531c09",
   "metadata": {},
   "outputs": [
    {
     "name": "stdin",
     "output_type": "stream",
     "text": [
      "enter the string hello\n",
      "enter the ith character to remove from string:- 4\n"
     ]
    },
    {
     "name": "stdout",
     "output_type": "stream",
     "text": [
      "string after removing Ith character is :-  hell\n"
     ]
    }
   ],
   "source": [
    "# Q3) Write a Python program to remove the i’th character from the string in different ways \n",
    "def Removechar (str):\n",
    "    new_str = \" \"\n",
    "    for i in range (len(str)):\n",
    "        if i !=I:\n",
    "            new_str = new_str + str[i]\n",
    "    return new_str\n",
    "str=input(\"enter the string\")\n",
    "I=int(input(\"enter the ith character to remove from string:-\"))\n",
    "updated_str=Removechar(str)\n",
    "print(\"string after removing Ith character is :-\",updated_str)\n"
   ]
  },
  {
   "cell_type": "code",
   "execution_count": 52,
   "id": "c774a09e-2606-480e-93a0-5af20e70325a",
   "metadata": {},
   "outputs": [],
   "source": [
    "# Function\n"
   ]
  },
  {
   "cell_type": "code",
   "execution_count": 71,
   "id": "df8d33e5-f7bd-46c6-b915-d0c65e2b83a5",
   "metadata": {},
   "outputs": [
    {
     "name": "stdin",
     "output_type": "stream",
     "text": [
      "enter the 1st number 75\n",
      "enter the 2nd number 45\n",
      "enter the 3rd number 12\n"
     ]
    },
    {
     "name": "stdout",
     "output_type": "stream",
     "text": [
      "75  is greater number\n"
     ]
    }
   ],
   "source": [
    "# Q1) Write a python function to find the Max of three numbers \n",
    "n1=int(input(\"enter the 1st number\"))\n",
    "n2=int(input(\"enter the 2nd number\"))\n",
    "n3=int(input(\"enter the 3rd number\"))\n",
    "def funct1():\n",
    "    if n1>n2 and n1>n3:\n",
    "        print(n1,\" is greater number\")\n",
    "    elif n2>n3:\n",
    "         print(n2 ,\"is greater number\")\n",
    "    else:\n",
    "        print(n3, \"is greater\")\n",
    "funct1()\n",
    "\n"
   ]
  },
  {
   "cell_type": "code",
   "execution_count": 66,
   "id": "0fe549c0-3853-44a6-b531-bb72f8b1f558",
   "metadata": {},
   "outputs": [
    {
     "name": "stdout",
     "output_type": "stream",
     "text": [
      "The sum of the numbers in the list is: 15\n"
     ]
    }
   ],
   "source": [
    "# Write a python function to Sum all the numbers in a list\n",
    "def sum_of_list(numbers):\n",
    "    return sum(numbers)\n",
    "\n",
    "numbers = [1, 2, 3, 4, 5]\n",
    "result = sum_of_list(numbers)\n",
    "print(\"The sum of the numbers in the list is:\", result)"
   ]
  },
  {
   "cell_type": "code",
   "execution_count": 77,
   "id": "14a6a75d-2aa7-43e2-85e0-94d6dbfc26c4",
   "metadata": {},
   "outputs": [
    {
     "name": "stdin",
     "output_type": "stream",
     "text": [
      "Enter the string: Omkar shelke\n"
     ]
    },
    {
     "name": "stdout",
     "output_type": "stream",
     "text": [
      "eklehs rakmO\n"
     ]
    }
   ],
   "source": [
    "# Q3) Write a Python function to reverse the string\n",
    "\n",
    "def reverse_string(s):\n",
    "    return s[::-1]\n",
    "string = input(\"Enter the string:\")\n",
    "result = reverse_string(string)\n",
    "print(result)\n"
   ]
  },
  {
   "cell_type": "code",
   "execution_count": 78,
   "id": "7b765e7a-ff94-4b05-b0b6-029e864de80a",
   "metadata": {},
   "outputs": [],
   "source": [
    "# String"
   ]
  },
  {
   "cell_type": "code",
   "execution_count": 82,
   "id": "79164930-56de-4ee3-b75b-61a148730b08",
   "metadata": {},
   "outputs": [
    {
     "name": "stdout",
     "output_type": "stream",
     "text": [
      "Even length words in the sentence:\n",
      "This\n",
      "is\n",
      "assignment\n"
     ]
    }
   ],
   "source": [
    "#Q1) Write a python program to print even length words in a string\n",
    "def print_even_length_words(sentence):\n",
    "    words = sentence.split()  # Split the sentence into words\n",
    "    for word in words:\n",
    "        if len(word) % 2 == 0:\n",
    "            print(word)\n",
    "sentence = \"This is coach x assignment \"\n",
    "print(\"Even length words in the sentence:\")\n",
    "print_even_length_words(sentence)\n"
   ]
  },
  {
   "cell_type": "code",
   "execution_count": 84,
   "id": "7e181af3-be87-40db-b77a-e6fade517054",
   "metadata": {},
   "outputs": [
    {
     "name": "stdout",
     "output_type": "stream",
     "text": [
      "Strings containing all vowels:\n",
      "education\n",
      "sequoia\n"
     ]
    }
   ],
   "source": [
    "#Q2) Write a python program to accept the strings which contains all vowels \n",
    "def contains_all_vowels(s):\n",
    "    vowels = set('aeiou')\n",
    "    return vowels.issubset(set(s.lower()))\n",
    "\n",
    "def filter_strings_with_all_vowels(strings):\n",
    "    for s in strings:\n",
    "        if contains_all_vowels(s):\n",
    "            print(s)\n",
    "strings = [\n",
    "    \"school\",\n",
    "    \"education\",\n",
    "    \"sequoia\",\n",
    "    \"rahul\",\n",
    "    \"lords\"\n",
    "]\n",
    "\n",
    "print(\"Strings containing all vowels:\")\n",
    "filter_strings_with_all_vowels(strings)"
   ]
  },
  {
   "cell_type": "code",
   "execution_count": 85,
   "id": "3c39827c-7682-4fb8-9a13-89fe5d74d4fb",
   "metadata": {},
   "outputs": [
    {
     "name": "stdout",
     "output_type": "stream",
     "text": [
      "Number of matching characters between 'apple' and 'grape': 3\n"
     ]
    }
   ],
   "source": [
    "#Q3) Write a python program to Count the number of matching characters in a pair of String\n",
    "def count_matching_characters(str1, str2):\n",
    "    set1 = set(str1)\n",
    "    set2 = set(str2)\n",
    "    matching_characters = set1.intersection(set2)\n",
    "    return len(matching_characters)\n",
    "string1 = \"apple\"\n",
    "string2 = \"grape\"\n",
    "\n",
    "result = count_matching_characters(string1, string2)\n",
    "print(f\"Number of matching characters between '{string1}' and '{string2}':\", result)\n"
   ]
  },
  {
   "cell_type": "code",
   "execution_count": 87,
   "id": "17f470c7-db71-4d9b-a9c5-903a6a24f8e7",
   "metadata": {},
   "outputs": [
    {
     "name": "stdout",
     "output_type": "stream",
     "text": [
      "Unique elements in the list: [1, 2, 3, 4, 5, 6, 7]\n"
     ]
    }
   ],
   "source": [
    "# Function\n",
    "#Q1) Write a Python function that takes a list and returns  a new list with unique elements of the first list.\n",
    "def unique_elements(lst):\n",
    "    return list(set(lst))\n",
    "numbers = [1, 2, 2, 3, 4, 4, 5, 6, 7, 7]\n",
    "unique_numbers = unique_elements(numbers)\n",
    "print(\"Unique elements in the list:\", unique_numbers)"
   ]
  },
  {
   "cell_type": "code",
   "execution_count": 98,
   "id": "4f814eaa-f441-47c2-a091-0b19e70c0187",
   "metadata": {},
   "outputs": [
    {
     "name": "stdin",
     "output_type": "stream",
     "text": [
      "Enter a number:  51\n"
     ]
    },
    {
     "name": "stdout",
     "output_type": "stream",
     "text": [
      "51 is not a prime number.\n"
     ]
    }
   ],
   "source": [
    "# Q2)  Write a python function that takes a number as a parameter and check the number is prime or not.\n",
    "def prime_number(n):\n",
    "    #Checks if a number is prime.\n",
    "    if n <= 1:\n",
    "        return False\n",
    "    for i in range(2, int(n**0.5) + 1):\n",
    "        if n % i == 0:\n",
    "            return False\n",
    "    return True\n",
    "number = int(input(\"Enter a number: \"))\n",
    "\n",
    "if prime_number(number):\n",
    "    print(f\"{number} is a prime number.\")\n",
    "else:\n",
    "    print(f\"{number} is not a prime number.\")"
   ]
  },
  {
   "cell_type": "code",
   "execution_count": 103,
   "id": "989395b7-6cea-4f83-adc5-abe693976fd7",
   "metadata": {},
   "outputs": [
    {
     "name": "stdin",
     "output_type": "stream",
     "text": [
      "enter the number: 28\n"
     ]
    },
    {
     "name": "stdout",
     "output_type": "stream",
     "text": [
      "28 is a perfect number.\n"
     ]
    }
   ],
   "source": [
    "#Q3) Write a python function to check whether a number is perfect or not.\n",
    "def is_perfect(n):\n",
    "    \"\"\"Checks if a number is perfect.\"\"\"\n",
    "    if n <= 0:\n",
    "        return False\n",
    "    divisors_sum = sum(i for i in range(1, n) if n % i == 0)\n",
    "    return divisors_sum == n\n",
    "\n",
    "number = int(input(\"enter the number:\"))\n",
    "if is_perfect(number):\n",
    "    print(f\"{number} is a perfect number.\")\n",
    "else:\n",
    "    print(f\"{number} is not a perfect number.\")"
   ]
  },
  {
   "cell_type": "code",
   "execution_count": 108,
   "id": "d1a3b7a5-765a-43ba-8b65-2b71ea1d43c0",
   "metadata": {},
   "outputs": [
    {
     "name": "stdin",
     "output_type": "stream",
     "text": [
      "Enter the value of x:  12\n",
      "Enter the value of y:  14\n"
     ]
    },
    {
     "name": "stdout",
     "output_type": "stream",
     "text": [
      "After swapping: x = 14, y = 12\n"
     ]
    }
   ],
   "source": [
    "# Assignment 2\n",
    "def swap_variables(x, y):\n",
    "    \"\"\"Swaps the values of two variables.\"\"\"\n",
    "    x, y = y, x\n",
    "    return x, y\n",
    "\n",
    "# Example usage:\n",
    "x = input(\"Enter the value of x: \")\n",
    "y = input(\"Enter the value of y: \")\n",
    "\n",
    "x, y = swap_variables(x, y)\n",
    "print(f\"After swapping: x = {x}, y = {y}\")"
   ]
  },
  {
   "cell_type": "code",
   "execution_count": 129,
   "id": "7cdd3979-16a9-4048-b5ce-7d4352f0d13d",
   "metadata": {},
   "outputs": [
    {
     "ename": "SyntaxError",
     "evalue": "invalid syntax (850326578.py, line 9)",
     "output_type": "error",
     "traceback": [
      "\u001b[1;36m  Cell \u001b[1;32mIn[129], line 9\u001b[1;36m\u001b[0m\n\u001b[1;33m    elif num<0:\u001b[0m\n\u001b[1;37m    ^\u001b[0m\n\u001b[1;31mSyntaxError\u001b[0m\u001b[1;31m:\u001b[0m invalid syntax\n"
     ]
    }
   ],
   "source": [
    "# 1. Write a Python Program to Check if a Number is Positive, Negative or Zero  and odd or even\n",
    "num=int(input(\"enter the value:\"))\n",
    "if num >0:\n",
    "    print(\"it is positive number\")\n",
    "    if num%2==0:\n",
    "        print(\"entered no is even\")      \n",
    "else:\n",
    "    print(\"entered number is odd\")\n",
    "elif num<0:\n",
    "    print(\"it is negative number\")\n",
    "    if num%2==0:\n",
    "        print(\"entered no is even\")\n",
    "    else:\n",
    "       print(\"it is a odd number\")\n",
    "else:\n",
    "   print(\"it is zero number\")\n",
    "\n",
    "        \n",
    "   "
   ]
  },
  {
   "cell_type": "code",
   "execution_count": 132,
   "id": "87a3bab8-aebc-4c5e-a75e-82c6cfcd3945",
   "metadata": {},
   "outputs": [
    {
     "name": "stdin",
     "output_type": "stream",
     "text": [
      "Enter a number:  4500\n"
     ]
    },
    {
     "ename": "TypeError",
     "evalue": "'str' object is not callable",
     "output_type": "error",
     "traceback": [
      "\u001b[1;31m---------------------------------------------------------------------------\u001b[0m",
      "\u001b[1;31mTypeError\u001b[0m                                 Traceback (most recent call last)",
      "Cell \u001b[1;32mIn[132], line 10\u001b[0m\n\u001b[0;32m      7\u001b[0m \u001b[38;5;66;03m# Example usage:\u001b[39;00m\n\u001b[0;32m      8\u001b[0m number \u001b[38;5;241m=\u001b[39m \u001b[38;5;28mint\u001b[39m(\u001b[38;5;28minput\u001b[39m(\u001b[38;5;124m\"\u001b[39m\u001b[38;5;124mEnter a number: \u001b[39m\u001b[38;5;124m\"\u001b[39m))\n\u001b[1;32m---> 10\u001b[0m \u001b[38;5;28;01mif\u001b[39;00m is_armstrong(number):\n\u001b[0;32m     11\u001b[0m     \u001b[38;5;28mprint\u001b[39m(\u001b[38;5;124mf\u001b[39m\u001b[38;5;124m\"\u001b[39m\u001b[38;5;132;01m{\u001b[39;00mnumber\u001b[38;5;132;01m}\u001b[39;00m\u001b[38;5;124m is an Armstrong number.\u001b[39m\u001b[38;5;124m\"\u001b[39m)\n\u001b[0;32m     12\u001b[0m \u001b[38;5;28;01melse\u001b[39;00m:\n",
      "Cell \u001b[1;32mIn[132], line 2\u001b[0m, in \u001b[0;36mis_armstrong\u001b[1;34m(n)\u001b[0m\n\u001b[0;32m      1\u001b[0m \u001b[38;5;28;01mdef\u001b[39;00m \u001b[38;5;21mis_armstrong\u001b[39m(n):\n\u001b[1;32m----> 2\u001b[0m     digits \u001b[38;5;241m=\u001b[39m [\u001b[38;5;28mint\u001b[39m(d) \u001b[38;5;28;01mfor\u001b[39;00m d \u001b[38;5;129;01min\u001b[39;00m \u001b[38;5;28mstr\u001b[39m(n)]\n\u001b[0;32m      3\u001b[0m     num_digits \u001b[38;5;241m=\u001b[39m \u001b[38;5;28mlen\u001b[39m(digits)\n\u001b[0;32m      4\u001b[0m     armstrong_sum \u001b[38;5;241m=\u001b[39m \u001b[38;5;28msum\u001b[39m(d\u001b[38;5;241m*\u001b[39m\u001b[38;5;241m*\u001b[39mnum_digits \u001b[38;5;28;01mfor\u001b[39;00m d \u001b[38;5;129;01min\u001b[39;00m digits)\n",
      "\u001b[1;31mTypeError\u001b[0m: 'str' object is not callable"
     ]
    }
   ],
   "source": [
    "def is_armstrong(n):\n",
    "    digits = [int(d) for d in str(n)]\n",
    "    num_digits = len(digits)\n",
    "    armstrong_sum = sum(d**num_digits for d in digits)\n",
    "    return armstrong_sum == n\n",
    "\n",
    "# Example usage:\n",
    "number = int(input(\"Enter a number: \"))\n",
    "\n",
    "if is_armstrong(number):\n",
    "    print(f\"{number} is an Armstrong number.\")\n",
    "else:\n",
    "    print(f\"{number} is not an Armstrong number.\")"
   ]
  },
  {
   "cell_type": "code",
   "execution_count": 153,
   "id": "cfeb9ce7-a763-45cf-9d52-c534e58f03ba",
   "metadata": {},
   "outputs": [
    {
     "name": "stdin",
     "output_type": "stream",
     "text": [
      "Enter a number:  4\n"
     ]
    },
    {
     "name": "stdout",
     "output_type": "stream",
     "text": [
      "The factorial of 4 is: 24\n"
     ]
    }
   ],
   "source": [
    "# factorial\n",
    "def factorial(n):\n",
    "  \n",
    "    if n < 0:\n",
    "        return \"Factorial is not defined for negative numbers\"\n",
    "    elif n == 0 or n == 1:\n",
    "        return 1\n",
    "    else:\n",
    "        result = 1\n",
    "        for i in range(2, n + 1):\n",
    "            result *= i\n",
    "        return result\n",
    "\n",
    "# Example usage:\n",
    "number = int(input(\"Enter a number: \"))\n",
    "\n",
    "fact = factorial(number)\n",
    "print(f\"The factorial of {number} is: {fact}\")"
   ]
  },
  {
   "cell_type": "code",
   "execution_count": 155,
   "id": "ef1dd9f7-0117-47e4-b97c-b82451d142ee",
   "metadata": {},
   "outputs": [
    {
     "name": "stdin",
     "output_type": "stream",
     "text": [
      "enter the year: 2024\n"
     ]
    },
    {
     "name": "stdout",
     "output_type": "stream",
     "text": [
      "it is leap year\n"
     ]
    }
   ],
   "source": [
    "# leap year\n",
    "year=int(input(\"enter the year:\"))\n",
    "if year%4==0:\n",
    "         print(\"it is leap year\")\n",
    "else: print(\"it is not leap year\")"
   ]
  },
  {
   "cell_type": "code",
   "execution_count": 157,
   "id": "42b430d4-b298-4682-b884-c92657471e0b",
   "metadata": {},
   "outputs": [
    {
     "name": "stdin",
     "output_type": "stream",
     "text": [
      "Enter the number of terms for Fibonacci sequence:  5\n"
     ]
    },
    {
     "name": "stdout",
     "output_type": "stream",
     "text": [
      "Fibonacci sequence:\n",
      "[0, 1, 1, 2, 3]\n"
     ]
    }
   ],
   "source": [
    "def fibonacci_sequence(n):\n",
    "    \"\"\"Generates the Fibonacci sequence up to n terms.\"\"\"\n",
    "    sequence = []\n",
    "    a, b = 0, 1\n",
    "    while len(sequence) < n:\n",
    "        sequence.append(a)\n",
    "        a, b = b, a + b\n",
    "    return sequence\n",
    "\n",
    "# Example usage:\n",
    "num_terms = int(input(\"Enter the number of terms for Fibonacci sequence: \"))\n",
    "\n",
    "if num_terms <= 0:\n",
    "    print(\"Please enter a positive integer.\")\n",
    "else:\n",
    "    fib_sequence = fibonacci_sequence(num_terms)\n",
    "    print(\"Fibonacci sequence:\")\n",
    "    print(fib_sequence)"
   ]
  },
  {
   "cell_type": "code",
   "execution_count": 159,
   "id": "d53ceeef-0bc8-417e-9162-e056bff29fc0",
   "metadata": {},
   "outputs": [
    {
     "name": "stdin",
     "output_type": "stream",
     "text": [
      "Enter a positive integer:  2\n"
     ]
    },
    {
     "name": "stdout",
     "output_type": "stream",
     "text": [
      "The sum of natural numbers up to 2 is: 3\n"
     ]
    }
   ],
   "source": [
    "def sum_of_natural_numbers(n):\n",
    "    #Calculates the sum of natural numbers up to n.\n",
    "    if n < 1:\n",
    "        return \"Input should be a positive integer.\"\n",
    "    return n * (n + 1) // 2\n",
    "\n",
    "# Example usage:\n",
    "number = int(input(\"Enter a positive integer: \"))\n",
    "\n",
    "if number <= 0:\n",
    "    print(\"Please enter a positive integer.\")\n",
    "else:\n",
    "    total_sum = sum_of_natural_numbers(number)\n",
    "    print(f\"The sum of natural numbers up to {number} is: {total_sum}\")"
   ]
  },
  {
   "cell_type": "code",
   "execution_count": 163,
   "id": "4d080e08-2915-456a-bbe3-c857e9fe4fa2",
   "metadata": {},
   "outputs": [
    {
     "name": "stdout",
     "output_type": "stream",
     "text": [
      "['rahul', 'suman', 'prasad', 'akash', 'rohan', 'virat']\n"
     ]
    }
   ],
   "source": [
    "# Assignment 3\n",
    "# 1. Write a Python program to append items from a specified list. \n",
    "names =[\"rahul\",\"suman\",\"prasad\",\"akash\",\"rohan\"]\n",
    "names.append(\"virat\")\n",
    "print(names)"
   ]
  },
  {
   "cell_type": "code",
   "execution_count": 183,
   "id": "ef6e071c-defa-437f-9f92-08a22f9b9b2f",
   "metadata": {},
   "outputs": [
    {
     "data": {
      "text/plain": [
       "'rahul'"
      ]
     },
     "execution_count": 183,
     "metadata": {},
     "output_type": "execute_result"
    }
   ],
   "source": [
    "#7. Write a Python function that accepts a string and calculate the number of upper case letters and lower case letters. \n",
    "names=\"rahul\"\n",
    "#names.upper()\n",
    "names.lower()\n"
   ]
  },
  {
   "cell_type": "code",
   "execution_count": 186,
   "id": "7ee1fbf3-24ea-4ab0-9cb4-4795e3606823",
   "metadata": {},
   "outputs": [
    {
     "name": "stdout",
     "output_type": "stream",
     "text": [
      "1\n",
      "2\n",
      "3\n",
      "4\n",
      "5\n",
      "6\n",
      "7\n",
      "8\n",
      "9\n",
      "10\n"
     ]
    }
   ],
   "source": [
    "# 6. Write a Python function to check whether a number is in a given range\n",
    "for i in range(1,10+1):\n",
    "    print(i)"
   ]
  },
  {
   "cell_type": "code",
   "execution_count": 188,
   "id": "c9b039d4-06ee-4f26-812c-e2f7f885d803",
   "metadata": {},
   "outputs": [
    {
     "name": "stdin",
     "output_type": "stream",
     "text": [
      "Enter a string:  this is python class\n"
     ]
    },
    {
     "name": "stdout",
     "output_type": "stream",
     "text": [
      "String after removing duplicates: this pyoncla\n"
     ]
    }
   ],
   "source": [
    "#8. Write a python program to Remove all duplicates from a given string in Python \n",
    "def remove_duplicates(input_string):\n",
    "    #Removes all duplicates from the string while preserving the order.\"\"\"\n",
    "    result = []\n",
    "    seen = set()\n",
    "    \n",
    "    for char in input_string:\n",
    "        if char not in seen:\n",
    "            seen.add(char)\n",
    "            result.append(char)\n",
    "    \n",
    "    return ''.join(result)\n",
    "\n",
    "# Example usage:\n",
    "input_string = input(\"Enter a string: \")\n",
    "output_string = remove_duplicates(input_string)\n",
    "print(\"String after removing duplicates:\", output_string)"
   ]
  },
  {
   "cell_type": "code",
   "execution_count": 3,
   "id": "2df81536-a9c9-4065-9f91-ee7c64bacbbb",
   "metadata": {},
   "outputs": [
    {
     "name": "stdin",
     "output_type": "stream",
     "text": [
      "Enter a hyphen-separated sequence of words:  opfdhej-djsxjws-ancnhushd-dnjshjs-bdjhsgsu-cshwhu\n"
     ]
    },
    {
     "name": "stdout",
     "output_type": "stream",
     "text": [
      "Sorted hyphen-separated sequence: ancnhushd-bdjhsgsu-cshwhu-djsxjws-dnjshjs-opfdhej\n"
     ]
    }
   ],
   "source": [
    "def sort_hyphenated_sequence(input_string):\n",
    "    \"\"\"Sorts a hyphen-separated sequence of words alphabetically.\"\"\"\n",
    "    words = input_string.split('-')\n",
    "    words.sort()\n",
    "    return '-'.join(words)\n",
    "input_string = input(\"Enter a hyphen-separated sequence of words: \")\n",
    "sorted_string = sort_hyphenated_sequence(input_string)\n",
    "print(\"Sorted hyphen-separated sequence:\", sorted_string)"
   ]
  },
  {
   "cell_type": "code",
   "execution_count": 4,
   "id": "48c82ec4-7073-49a0-ac68-42ba24b60d35",
   "metadata": {},
   "outputs": [
    {
     "name": "stdout",
     "output_type": "stream",
     "text": [
      "The sum of the list is: 15\n"
     ]
    }
   ],
   "source": [
    "# Assignment 4\n",
    "# set A list\n",
    "#1) Write a Python program to sum all the items in a list. \n",
    "def sum_of_list(items):\n",
    "    total = 0\n",
    "    for item in items:\n",
    "        total += item\n",
    "    return total\n",
    "my_list = [1, 2, 3, 4, 5]\n",
    "print(\"The sum of the list is:\", sum_of_list(my_list))"
   ]
  },
  {
   "cell_type": "code",
   "execution_count": 7,
   "id": "8fb9524d-597f-4674-8f14-0bcac16b8b81",
   "metadata": {},
   "outputs": [
    {
     "name": "stdout",
     "output_type": "stream",
     "text": [
      "The product of all items in the list is: 120\n"
     ]
    }
   ],
   "source": [
    "# Write a Python program to multiplies all the items in a list. \n",
    "def multiply_list_items(lst):\n",
    "    result = 1\n",
    "    for item in lst:\n",
    "        result *= item\n",
    "    return result\n",
    "numbers = [2, 3, 4, 5]\n",
    "product = multiply_list_items(numbers)\n",
    "print(\"The product of all items in the list is:\", product)"
   ]
  },
  {
   "cell_type": "code",
   "execution_count": 8,
   "id": "80e4881e-0fb5-4798-864a-6c1250600e39",
   "metadata": {},
   "outputs": [
    {
     "name": "stdout",
     "output_type": "stream",
     "text": [
      "Sorted list of tuples: [(3, 1), (1, 2), (2, 3), (4, 4), (2, 5)]\n"
     ]
    }
   ],
   "source": [
    "def sort_by_last_element(tuples_list):\n",
    "    return sorted(tuples_list, key=lambda x: x[-1])\n",
    "tuples = [(2, 5), (1, 2), (4, 4), (2, 3), (3, 1)]\n",
    "sorted_tuples = sort_by_last_element(tuples)\n",
    "print(\"Sorted list of tuples:\", sorted_tuples)"
   ]
  },
  {
   "cell_type": "code",
   "execution_count": 10,
   "id": "1d3207ca-ab7d-4daf-af05-4aa49676d1cc",
   "metadata": {},
   "outputs": [
    {
     "name": "stdout",
     "output_type": "stream",
     "text": [
      "('raj', 'harsh', 'piyush', 'Prasad')\n",
      "<class 'tuple'>\n"
     ]
    }
   ],
   "source": [
    "# Tuple\n",
    "#1) Write a Python program to create a tuple. \n",
    "name=(\"raj\",\"harsh\",\"piyush\",\"Prasad\")\n",
    "print(name)\n",
    "print(type(name))"
   ]
  },
  {
   "cell_type": "code",
   "execution_count": 12,
   "id": "46576907-058d-496b-9f80-14165632c250",
   "metadata": {},
   "outputs": [
    {
     "name": "stdout",
     "output_type": "stream",
     "text": [
      "The created tuple with different data types is: ('Hello', 42, 3.14, True, [1, 2, 3], {'key': 'value'}, (7, 8, 9))\n",
      "<class 'tuple'>\n"
     ]
    }
   ],
   "source": [
    "# 2) Write a Python program to create a tuple with different data types. \n",
    "# Creating a tuple with different data types\n",
    "mixed_tuple = (\"Hello\", 42, 3.14, True, [1, 2, 3], {\"key\": \"value\"}, (7, 8, 9))\n",
    "\n",
    "# Display the tuple\n",
    "print(\"The created tuple with different data types is:\", mixed_tuple)\n",
    "print(type(mixed_tuple))"
   ]
  },
  {
   "cell_type": "code",
   "execution_count": 20,
   "id": "dab159e8-a5c0-442d-b56d-18d719868f4a",
   "metadata": {},
   "outputs": [
    {
     "data": {
      "text/plain": [
       "('Hello', 42, 3.14, True)"
      ]
     },
     "execution_count": 20,
     "metadata": {},
     "output_type": "execute_result"
    }
   ],
   "source": [
    "#3) Write a Python program to check whether an element exists within a tuple. \n",
    "my_tuple = (\"Hello\", 42, 3.14, True, [1, 2, 3], {\"key\": \"value\"}, (7, 8, 9))\n",
    "my_tuple[:4]"
   ]
  },
  {
   "cell_type": "code",
   "execution_count": 22,
   "id": "1ddb8149-2e89-45bd-bf1f-163dda8aaeb2",
   "metadata": {},
   "outputs": [
    {
     "name": "stdout",
     "output_type": "stream",
     "text": [
      "{50, 24, 42, 12, 45, 15}\n"
     ]
    }
   ],
   "source": [
    "# set\n",
    "# Write a Python program to create a set. \n",
    "marks={50,42,15,45,12,24}\n",
    "print(marks)"
   ]
  },
  {
   "cell_type": "code",
   "execution_count": 23,
   "id": "e28463f6-554a-400f-9deb-9d4eee6ff9c3",
   "metadata": {},
   "outputs": [
    {
     "name": "stdout",
     "output_type": "stream",
     "text": [
      "50\n",
      "20\n",
      "40\n",
      "10\n",
      "30\n"
     ]
    }
   ],
   "source": [
    "#2) Write a Python program to iterate over sets. \n",
    "# Creating a set\n",
    "marks = {10, 20, 30, 40, 50}\n",
    "\n",
    "# Iterating over the set\n",
    "for i in marks :\n",
    "    print(i)\n"
   ]
  },
  {
   "cell_type": "code",
   "execution_count": 24,
   "id": "a361248a-ade8-458b-8ed0-a3e78f550bcc",
   "metadata": {},
   "outputs": [
    {
     "name": "stdout",
     "output_type": "stream",
     "text": [
      "Set difference (set1 - set2) is: {50, 10, 20}\n"
     ]
    }
   ],
   "source": [
    "#4) Write a Python program to create set difference. \n",
    "# Creating two sets\n",
    "set1 = {10, 20, 30, 40, 50}\n",
    "set2 = {30, 40, 60, 70}\n",
    "\n",
    "# Creating the difference\n",
    "difference = set1 - set2\n",
    "\n",
    "# Displaying the difference\n",
    "print(\"Set difference (set1 - set2) is:\", difference)"
   ]
  },
  {
   "cell_type": "code",
   "execution_count": 25,
   "id": "45e6e237-dc15-4bff-835e-7d71305761cc",
   "metadata": {},
   "outputs": [
    {
     "name": "stdout",
     "output_type": "stream",
     "text": [
      "Original dictionary :  {1: 2, 3: 4, 4: 3, 2: 1, 0: 0}\n",
      "Ascending order :  [(0, 0), (2, 1), (1, 2), (4, 3), (3, 4)]\n",
      "Descending order :  {3: 4, 4: 3, 1: 2, 2: 1, 0: 0}\n"
     ]
    }
   ],
   "source": [
    "#Dictionary:--\n",
    "#1) Write a Python script to sort (ascending and descending) a dictionary by value. \n",
    "import operator\n",
    "d = {1: 2, 3: 4, 4: 3, 2: 1, 0: 0}\n",
    "print('Original dictionary : ',d)\n",
    "sd = sorted(d.items(), key=operator.itemgetter(1))\n",
    "print('Ascending order : ',sd)\n",
    "sd = dict( sorted(d.items(), key=operator.itemgetter(1),reverse=True))\n",
    "print('Descending order : ',sd)\n"
   ]
  },
  {
   "cell_type": "code",
   "execution_count": 30,
   "id": "ab7b0afc-0448-4f8d-94c6-cef952004498",
   "metadata": {},
   "outputs": [
    {
     "name": "stdout",
     "output_type": "stream",
     "text": [
      "{'rahul': 'science', 'piyush': 'math'}\n"
     ]
    },
    {
     "data": {
      "text/plain": [
       "dict_keys(['rahul', 'piyush'])"
      ]
     },
     "execution_count": 30,
     "metadata": {},
     "output_type": "execute_result"
    }
   ],
   "source": [
    "#2) Write a Python script to add a key and value to a dictionary. \n",
    "student={\"rahul\":\"science\",\"piyush\":\"math\"}\n",
    "print(student)\n",
    "student.keys()\n",
    "#student.values()"
   ]
  },
  {
   "cell_type": "code",
   "execution_count": 34,
   "id": "217cf5ef-36ec-44c0-b8be-6c6fd3e46ea5",
   "metadata": {},
   "outputs": [
    {
     "name": "stdout",
     "output_type": "stream",
     "text": [
      "{'rahul': 'science', 'piyush': 'math', 'mangesh': 'History'}\n"
     ]
    }
   ],
   "source": [
    "student.update({\"mangesh\":\"History\"})\n",
    "print(student)"
   ]
  },
  {
   "cell_type": "code",
   "execution_count": 35,
   "id": "7839fa21-34d4-447a-999d-47f5c0db055a",
   "metadata": {},
   "outputs": [
    {
     "data": {
      "text/plain": [
       "{'rahul': 'science', 'piyush': 'math', 'mangesh': 'History'}"
      ]
     },
     "execution_count": 35,
     "metadata": {},
     "output_type": "execute_result"
    }
   ],
   "source": [
    "# Write a Python program to iterate over dictionaries using for loops. \n",
    "student"
   ]
  },
  {
   "cell_type": "code",
   "execution_count": 39,
   "id": "24c37b11-a3c1-47df-821f-a5c80e0a8fa7",
   "metadata": {},
   "outputs": [
    {
     "name": "stdout",
     "output_type": "stream",
     "text": [
      "('rahul', 'science')\n",
      "('piyush', 'math')\n"
     ]
    }
   ],
   "source": [
    "# 3  Write a Python program to iterate over dictionaries using for loops. \n",
    "\n",
    "student={\"rahul\":\"science\",\"piyush\":\"math\"}\n",
    "for i  in student.items():\n",
    "    print(i)"
   ]
  },
  {
   "cell_type": "code",
   "execution_count": 41,
   "id": "b0021dfd-fd62-4944-b5b8-4b639d7ba769",
   "metadata": {},
   "outputs": [
    {
     "name": "stdout",
     "output_type": "stream",
     "text": [
      "[2, 4, 10, 20, 5]\n"
     ]
    }
   ],
   "source": [
    "#SET B\n",
    "#List\n",
    "#1. Write a Python program to remove duplicates from a list. \n",
    "duplicate = [2, 4, 10, 20, 5, 2, 20, 4]\n",
    "def Remove(duplicate):\n",
    "    final_list = []\n",
    "    for num in duplicate:\n",
    "        if num not in final_list:\n",
    "            final_list.append(num)\n",
    "    return final_list\n",
    "print(Remove(duplicate))"
   ]
  },
  {
   "cell_type": "code",
   "execution_count": 55,
   "id": "470972bb-2f29-40b4-9f34-04e264da1a4f",
   "metadata": {},
   "outputs": [
    {
     "name": "stdout",
     "output_type": "stream",
     "text": [
      "it is empty\n"
     ]
    }
   ],
   "source": [
    "#2. Write a Python program to check a list is empty or not. \n",
    "list=[ ]\n",
    "if not list :\n",
    "    print('it is empty')\n",
    "else:\n",
    "    print('it is not empty')"
   ]
  },
  {
   "cell_type": "code",
   "execution_count": 58,
   "id": "d7f5b524-76a8-42b0-bfb6-16438b0765b9",
   "metadata": {},
   "outputs": [
    {
     "name": "stdout",
     "output_type": "stream",
     "text": [
      "(1, 2, 3, 4)\n"
     ]
    }
   ],
   "source": [
    "#tuple\n",
    "#1. Write a Python program to convert a list to a tuple.\n",
    "#list into a tuple\n",
    "list = [1, 2, 3, 4]\n",
    "def convert(list):\n",
    "    return tuple(list)\n",
    "print(convert(list))"
   ]
  },
  {
   "cell_type": "code",
   "execution_count": 3,
   "id": "c43e655e-ba58-43f6-acce-72bbe70aafef",
   "metadata": {},
   "outputs": [
    {
     "ename": "AttributeError",
     "evalue": "'tuple' object has no attribute 'remove'",
     "output_type": "error",
     "traceback": [
      "\u001b[1;31m---------------------------------------------------------------------------\u001b[0m",
      "\u001b[1;31mAttributeError\u001b[0m                            Traceback (most recent call last)",
      "Cell \u001b[1;32mIn[3], line 3\u001b[0m\n\u001b[0;32m      1\u001b[0m \u001b[38;5;66;03m#2. Write a Python program to remove an item from a tuple. \u001b[39;00m\n\u001b[0;32m      2\u001b[0m age\u001b[38;5;241m=\u001b[39m(\u001b[38;5;241m12\u001b[39m,\u001b[38;5;241m45\u001b[39m,\u001b[38;5;241m75\u001b[39m,\u001b[38;5;241m45\u001b[39m,\u001b[38;5;241m15\u001b[39m,\u001b[38;5;241m65\u001b[39m)\n\u001b[1;32m----> 3\u001b[0m age\u001b[38;5;241m.\u001b[39mremove[\u001b[38;5;241m3\u001b[39m]\n",
      "\u001b[1;31mAttributeError\u001b[0m: 'tuple' object has no attribute 'remove'"
     ]
    }
   ],
   "source": [
    "#2. Write a Python program to remove an item from a tuple. \n",
    "age=(12,45,75,45,15,65)\n",
    "age.remove[3]"
   ]
  },
  {
   "cell_type": "code",
   "execution_count": 80,
   "id": "65c8489b-e3c7-4dc6-bfbb-2b38b19eed3c",
   "metadata": {},
   "outputs": [
    {
     "data": {
      "text/plain": [
       "(12,)"
      ]
     },
     "execution_count": 80,
     "metadata": {},
     "output_type": "execute_result"
    }
   ],
   "source": [
    "#3. Write a Python program to slice a tuple. \n",
    "age=(12,45,75,45,15,65)\n",
    "age[:1]\n"
   ]
  },
  {
   "cell_type": "code",
   "execution_count": 81,
   "id": "3f9278d0-b77e-4931-8e96-ecbbe2bcc9dc",
   "metadata": {},
   "outputs": [
    {
     "name": "stdout",
     "output_type": "stream",
     "text": [
      "6\n"
     ]
    }
   ],
   "source": [
    "# find the length of tuple\n",
    "age=(12,45,75,45,15,65)\n",
    "print(len(age))"
   ]
  },
  {
   "cell_type": "code",
   "execution_count": 7,
   "id": "f6c68c22-8587-4605-8e80-1a82f8b66db9",
   "metadata": {},
   "outputs": [
    {
     "name": "stdout",
     "output_type": "stream",
     "text": [
      "a Subset of b : True\n",
      "b Subset of a : False\n"
     ]
    }
   ],
   "source": [
    "#Sets\n",
    "#1. Write a Python program to check if a set is a subset of another set. \n",
    "a={1,2,3}\n",
    "b={1,2,3,4,5,6,7,8,9}\n",
    "print(\"a Subset of b :\",a.issubset(b))\n",
    "print(\"b Subset of a :\",b.issubset(a))\n"
   ]
  },
  {
   "cell_type": "code",
   "execution_count": 12,
   "id": "b0128932-27d1-4c6f-90da-90493c3f8203",
   "metadata": {},
   "outputs": [
    {
     "name": "stdout",
     "output_type": "stream",
     "text": [
      "9\n",
      "1\n"
     ]
    }
   ],
   "source": [
    "#2. Write a Python program to find maximum and the minimum value in a set. \n",
    "b={1,2,3,4,5,6,7,8,9}\n",
    "print(max(b))\n",
    "print(min(b))\n"
   ]
  },
  {
   "cell_type": "code",
   "execution_count": 27,
   "id": "e57e1c03-8937-4583-a9da-a0d7bc783652",
   "metadata": {},
   "outputs": [
    {
     "name": "stdout",
     "output_type": "stream",
     "text": [
      "<class 'set'>\n",
      "12\n"
     ]
    }
   ],
   "source": [
    "#3. Write a Python program to find the length of a set. \n",
    "b={1,2,3,4,5,6,7,8,9,10,11,12}\n",
    "print(type(b))\n",
    "print(len(b))"
   ]
  },
  {
   "cell_type": "code",
   "execution_count": 29,
   "id": "0ea1972f-4952-41d0-8683-71883c1cb7f4",
   "metadata": {},
   "outputs": [
    {
     "name": "stdin",
     "output_type": "stream",
     "text": [
      "Enter the value :  10\n"
     ]
    },
    {
     "name": "stdout",
     "output_type": "stream",
     "text": [
      "{1: 1, 2: 4, 3: 9, 4: 16, 5: 25, 6: 36, 7: 49, 8: 64, 9: 81, 10: 100}\n"
     ]
    }
   ],
   "source": [
    "#Dictionary\n",
    "#1. Write a Python script to generate and print a dictionary that contains a number (between 1 and n) in the form  (x, x*x). \n",
    "P=int(input(\"Enter the value : \"))\n",
    "d = dict()\n",
    " \n",
    "for x in range(1,P+1):\n",
    "    d[x]=x*x\n",
    "print(d) \n"
   ]
  },
  {
   "cell_type": "code",
   "execution_count": 39,
   "id": "47702a06-b341-4bef-9023-ad61be216174",
   "metadata": {},
   "outputs": [
    {
     "name": "stdout",
     "output_type": "stream",
     "text": [
      "Merged dict: {'rahul': 'educt', 'amit': 'coach', 'ram': 'profesor', 'comp': 'data sci', 'mech': 'machinaries', 'civil': 'constr'}\n"
     ]
    },
    {
     "data": {
      "text/plain": [
       "dict_keys(['rahul', 'amit', 'ram', 'comp', 'mech', 'civil'])"
      ]
     },
     "execution_count": 39,
     "metadata": {},
     "output_type": "execute_result"
    }
   ],
   "source": [
    "#3. Write a Python script to merge two Python dictionaries. \n",
    "student={\"rahul\":\"educt\",\"amit\":\"coach\",\"ram\":\"profesor\"}\n",
    "dep={\"comp\":\"data sci\",\"mech\":\"machinaries\",\"civil\":\"constr\"}\n",
    "student.update(dep)\n",
    "print(\"Merged dict:\", student)\n",
    "student.keys()\n",
    "#student.values()"
   ]
  },
  {
   "cell_type": "code",
   "execution_count": null,
   "id": "6886667a-9233-4279-85ee-76a77b71512f",
   "metadata": {},
   "outputs": [],
   "source": []
  },
  {
   "cell_type": "code",
   "execution_count": null,
   "id": "684de585-0914-49cd-8513-cf8c3f2dc85c",
   "metadata": {},
   "outputs": [],
   "source": []
  }
 ],
 "metadata": {
  "kernelspec": {
   "display_name": "Python 3 (ipykernel)",
   "language": "python",
   "name": "python3"
  },
  "language_info": {
   "codemirror_mode": {
    "name": "ipython",
    "version": 3
   },
   "file_extension": ".py",
   "mimetype": "text/x-python",
   "name": "python",
   "nbconvert_exporter": "python",
   "pygments_lexer": "ipython3",
   "version": "3.11.7"
  }
 },
 "nbformat": 4,
 "nbformat_minor": 5
}
